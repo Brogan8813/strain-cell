{
 "cells": [
  {
   "cell_type": "code",
   "execution_count": 1,
   "id": "ef107268",
   "metadata": {},
   "outputs": [
    {
     "name": "stdout",
     "output_type": "stream",
     "text": [
      "14:39:16\n",
      "('ASRL1::INSTR', 'ASRL3::INSTR', 'GPIB0::16::INSTR')\n",
      "Agilent Technologies,N5232A,MY52221251,A.10.00.00\n",
      "\n"
     ]
    }
   ],
   "source": [
    "import pyvisa\n",
    "import numpy as np\n",
    "import pandas as pd\n",
    "import time\n",
    "#print(np.array([1,2,3,4]))\n",
    "print(time.strftime('%H:%M:%S'))\n",
    "\n",
    "rm = pyvisa.ResourceManager() #make the 'resource manager' object through VISA\n",
    "print(rm.list_resources())#shows what connections are available \n",
    "\n",
    "'''then, once a printed instruments such as 'GPIB0::14::INSTR' is returned, find your instrument name and call label it, i.e. for AH 2550 Bridge:\n",
    "AH_2550 = rm.open_resource('GPIB0::14::INSTR')\n",
    "Then make it identify itself to confirm.\n",
    "print(AH_2550.query('*IDN?'))\n",
    "which is equivalent to the following 2 lines \n",
    "AH_2550.write('*IDN?')\n",
    "print(AH_2550.read())\n",
    "values = AH_2550.query_ascii_values('CONT?', container=numpy.array, separator='$')\n",
    "'''\n",
    "Inst = rm.open_resource('GPIB0::16::INSTR')\n",
    "print(Inst.query('*IDN?'))"
   ]
  },
  {
   "cell_type": "markdown",
   "id": "f6d2081b",
   "metadata": {},
   "source": [
    "In PowerShell, run:\n",
    "\n",
    "powershell\n",
    "Copy\n",
    "Edit\n",
    ".\\qcodes-env\\Scripts\\Activate\n",
    "You should see your prompt change to something like:\n",
    "\n",
    "powershell\n",
    "Copy\n",
    "Edit\n",
    "(qcodes-env) PS C:\\Users\\Birmingham\\Documents\\strain-cell>\n",
    "✅ Step 2: Upgrade pip (recommended)\n",
    "powershell\n",
    "Copy\n",
    "Edit\n",
    "python -m pip install --upgrade pip\n",
    "✅ Step 3: Install QCoDeS\n",
    "Now install QCoDeS and its core dependencies:\n",
    "\n",
    "powershell\n",
    "Copy\n",
    "Edit\n",
    "pip install qcodes[default]"
   ]
  },
  {
   "cell_type": "code",
   "execution_count": 13,
   "id": "f8021d1a",
   "metadata": {},
   "outputs": [
    {
     "ename": "ModuleNotFoundError",
     "evalue": "No module named 'qcodes'",
     "output_type": "error",
     "traceback": [
      "\u001b[1;31m---------------------------------------------------------------------------\u001b[0m",
      "\u001b[1;31mModuleNotFoundError\u001b[0m                       Traceback (most recent call last)",
      "Cell \u001b[1;32mIn[13], line 3\u001b[0m\n\u001b[0;32m      1\u001b[0m get_ipython()\u001b[38;5;241m.\u001b[39mrun_line_magic(\u001b[38;5;124m'\u001b[39m\u001b[38;5;124mmatplotlib\u001b[39m\u001b[38;5;124m'\u001b[39m, \u001b[38;5;124m'\u001b[39m\u001b[38;5;124minline\u001b[39m\u001b[38;5;124m'\u001b[39m)\n\u001b[0;32m      2\u001b[0m \u001b[38;5;66;03m# enables the rendering of matplotlib plots directly below code cells. This means that when you execute code that generates Matplotlib plots, the plots are displayed inline within the notebook, rather than in a separate window or output cell.\u001b[39;00m\n\u001b[1;32m----> 3\u001b[0m \u001b[38;5;28;01mimport\u001b[39;00m \u001b[38;5;21;01mqcodes\u001b[39;00m \u001b[38;5;28;01mas\u001b[39;00m \u001b[38;5;21;01mqc\u001b[39;00m\n\u001b[0;32m      4\u001b[0m \u001b[38;5;28;01mimport\u001b[39;00m \u001b[38;5;21;01mlogging\u001b[39;00m \u001b[38;5;66;03m# logging in python lets you record important information about your program's execution. Not sure if it's actually essential in this case.\u001b[39;00m\n\u001b[0;32m      5\u001b[0m \u001b[38;5;28;01mimport\u001b[39;00m \u001b[38;5;21;01mpyvisa\u001b[39;00m\n",
      "\u001b[1;31mModuleNotFoundError\u001b[0m: No module named 'qcodes'"
     ]
    }
   ],
   "source": [
    "%matplotlib inline \n",
    "# enables the rendering of matplotlib plots directly below code cells. This means that when you execute code that generates Matplotlib plots, the plots are displayed inline within the notebook, rather than in a separate window or output cell.\n",
    "import qcodes as qc\n",
    "import logging # logging in python lets you record important information about your program's execution. Not sure if it's actually essential in this case.\n",
    "import pyvisa\n",
    "import numpy as np\n",
    "import pandas as pd\n",
    "import time\n",
    "\n",
    "rm = pyvisa.ResourceManager() #make the 'resource manager' object through VISA\n",
    "print(rm.list_resources())#shows what connections are available \n",
    "\n",
    "'''then, once a printed instruments such as 'GPIB0::14::INSTR' is returned, find your instrument name and call label it, i.e. for AH 2550 Bridge:\n",
    "AH_2550 = rm.open_resource('GPIB0::14::INSTR')\n",
    "Then make it identify itself to confirm.\n",
    "print(AH_2550.query('*IDN?'))\n",
    "which is equivalent to the following 2 lines \n",
    "AH_2550.write('*IDN?')\n",
    "print(AH_2550.read())\n",
    "values = AH_2550.query_ascii_values('CONT?', container=numpy.array, separator='$')\n",
    "'''\n",
    "Inst = rm.open_resource('GPIB0::16::INSTR')\n",
    "print(Inst.query('*IDN?'))\n",
    "\n",
    "\n",
    "# i think i first need to test the connection with pyvisa\n",
    "rm = pyvisa.ResourceManager()\n",
    "visa_address ='GPIB0::16::INSTR'\n",
    "vna = rm.open_resource(visa_address)\n",
    "vna.timeout = 10000\n",
    "print(vna.query('*IDN?'))\n",
    "\n",
    "from qcodes.dataset import (\n",
    "    Measurement,\n",
    "    initialise_or_create_database_at,\n",
    "    load_experiment_by_name,\n",
    "    load_or_create_experiment,\n",
    "    new_experiment,\n",
    "    plot_by_id,\n",
    "    plot_dataset,\n",
    ")\n",
    "\n",
    "from qcodes.instrument_drivers.Keysight import KeysightN5232B # also note that only N5232B for qcodes, not N5232A, so need to see if this affects something\n",
    "vna = KeysightN5232B(\"vna\", visa_address) # need to add the IP address of the vna here\n",
    "vna.IDN() #just a line to check that we're connected to the right instrument\n",
    "\n",
    "logger = logging.getLogger() # gets the root logger.\n",
    "logger.setLevel(logging.DEBUG) # enables all messages at DEBUG level or higher. This is helpful for detailed output and troubleshooting during development or experiments.\n",
    "\n",
    "# Start experiment\n",
    "initialise_or_create_database_at(\"my_database.db\") # need to create a database\n",
    "exp_name = \"PNA_Example\"\n",
    "sample_name = \"sample\"\n",
    "try:\n",
    "    exp = load_experiment_by_name(exp_name, sample=sample_name)\n",
    "    print(\"Experiment loaded. Last ID no:\", exp.last_counter) # Attempts to load an existing experiment from the QCoDeS database using the provided names. If it exists, exp becomes a reference to that experiment, and the last measurement counter is printed.\n",
    "except ValueError:\n",
    "    exp = new_experiment(exp_name, sample_name)\n",
    "    print(\"Starting new experiment.\") # If loading fails (e.g., the experiment doesn't exist), a new experiment is created using new_experiment. This is saved to the database for future reference."
   ]
  }
 ],
 "metadata": {
  "kernelspec": {
   "display_name": "base",
   "language": "python",
   "name": "python3"
  },
  "language_info": {
   "codemirror_mode": {
    "name": "ipython",
    "version": 3
   },
   "file_extension": ".py",
   "mimetype": "text/x-python",
   "name": "python",
   "nbconvert_exporter": "python",
   "pygments_lexer": "ipython3",
   "version": "3.10.9"
  }
 },
 "nbformat": 4,
 "nbformat_minor": 5
}
