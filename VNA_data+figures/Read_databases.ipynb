{
 "cells": [
  {
   "cell_type": "code",
   "execution_count": 1,
   "id": "9ced1c56",
   "metadata": {},
   "outputs": [
    {
     "name": "stdout",
     "output_type": "stream",
     "text": [
      "[('experiments',), ('runs',), ('layouts',), ('dependencies',)]\n",
      "[(1, 'PNA_Example', 'sample', 1751464246.0548112, None, 0, '{}-{}-{}')]\n"
     ]
    }
   ],
   "source": [
    "import sqlite3\n",
    "\n",
    "conn = sqlite3.connect(\"my_database.db\")\n",
    "cursor = conn.cursor()\n",
    "\n",
    "# List all tables\n",
    "cursor.execute(\"SELECT name FROM sqlite_master WHERE type='table';\")\n",
    "print(cursor.fetchall())\n",
    "\n",
    "# Example: View the first few entries in the 'experiments' table\n",
    "cursor.execute(\"SELECT * FROM experiments LIMIT 5;\")\n",
    "print(cursor.fetchall())\n",
    "\n",
    "conn.close()"
   ]
  }
 ],
 "metadata": {
  "kernelspec": {
   "display_name": "qcodes-env",
   "language": "python",
   "name": "python3"
  },
  "language_info": {
   "codemirror_mode": {
    "name": "ipython",
    "version": 3
   },
   "file_extension": ".py",
   "mimetype": "text/x-python",
   "name": "python",
   "nbconvert_exporter": "python",
   "pygments_lexer": "ipython3",
   "version": "3.10.0"
  }
 },
 "nbformat": 4,
 "nbformat_minor": 5
}
