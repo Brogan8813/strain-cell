{
 "cells": [
  {
   "cell_type": "markdown",
   "metadata": {},
   "source": [
    "Code to take any mass of reactants for KYbSe2 and give the proper ratio of all others for the reaction"
   ]
  },
  {
   "cell_type": "code",
   "execution_count": 1,
   "metadata": {},
   "outputs": [
    {
     "name": "stdout",
     "output_type": "stream",
     "text": [
      "Se:201.98219857793237mg, Yb:221.296485753747mg\n",
      "Se:45.63610621514635mg, K:11.297061458002254mg\n",
      "Yb:54.78118549847412mg, K:12.37732838636968mg\n"
     ]
    }
   ],
   "source": [
    "#Molar Masses in g/mol (multiplied by 1000 to become mg/mol)\n",
    "\n",
    "K_mm = 39.098 * 1000\n",
    "Yb_mm = 173.045 * 1000\n",
    "Se_mm = 78.971 * 1000\n",
    "\n",
    "#Formula calls for K Yb Se2\n",
    "\n",
    "#Which are you measuring by:\n",
    "\n",
    "K =  True\n",
    "Yb = True\n",
    "Se = True\n",
    "\n",
    "if K:\n",
    "    K_amount = float(input('How much K, in mg'))\n",
    "    Yb_amount = 1 * (K_amount*Yb_mm)/(K_mm)\n",
    "    Se_amount = 2 * K_amount*Se_mm/(K_mm)\n",
    "    print(f'Se:{Se_amount}mg, Yb:{Yb_amount}mg')\n",
    "\n",
    "if Yb:\n",
    "    Yb_amount = float(input('How much Yb, in mg'))\n",
    "    Se_amount = 2 * (Se_mm*Yb_amount)/(Yb_mm)\n",
    "    K_amount = 1 * (K_mm*Yb_amount)/(Yb_mm)\n",
    "    print(f'Se:{Se_amount}mg, K:{K_amount}mg')\n",
    "\n",
    "\n",
    "if Se:\n",
    "    Se_amount = float(input('How much Se, in mg'))\n",
    "    K_amount = 1/2 * (K_mm*Se_amount)/(Se_mm)\n",
    "    Yb_amount = 1/2 * (Yb_mm*Se_amount)/(Se_mm)\n",
    "    print(f'Yb:{Yb_amount}mg, K:{K_amount}mg')"
   ]
  }
 ],
 "metadata": {
  "kernelspec": {
   "display_name": ".venv",
   "language": "python",
   "name": "python3"
  },
  "language_info": {
   "codemirror_mode": {
    "name": "ipython",
    "version": 3
   },
   "file_extension": ".py",
   "mimetype": "text/x-python",
   "name": "python",
   "nbconvert_exporter": "python",
   "pygments_lexer": "ipython3",
   "version": "3.12.2"
  }
 },
 "nbformat": 4,
 "nbformat_minor": 2
}
