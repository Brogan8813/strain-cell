{
 "cells": [
  {
   "cell_type": "code",
   "execution_count": 80,
   "metadata": {
    "metadata": {}
   },
   "outputs": [],
   "source": [
    "import numpy as np \n",
    "import scipy\n",
    "from scipy.integrate import nquad\n",
    "\n",
    "'''Change the below values for your coil'''\n",
    "'''\n",
    "coil_turns = 3\n",
    "coil_length = 0.7 #units in cm, side-on measured\n",
    "coil_diameter = 0.5 #units in cm from top down\n",
    "coil_radius =coil_diameter/2\n",
    "wire_thickness = 0.69*10**-3 #units of cm,diameter\n",
    "wire_radius = wire_thickness/2\n",
    "'''\n",
    "\n",
    "\n",
    "#Inductance of coil the below are defaults\n",
    "#'''\n",
    "coil_turns = 20\n",
    "coil_length = 3 #units in cm, side on measured\n",
    "coil_diameter = 1 #units in cm from top down\n",
    "wire_thickness = 10*10**-4 #units of cm\n",
    "#'''\n",
    "\n",
    "'''Other constants and values we need'''\n",
    "medium_permeability =  np.pi*4*10**-7 #vacuum value\n",
    "coil_area = (np.pi)*(coil_diameter**2)/4\n",
    "coax_imp = 50 #Coax cable impedance in Ohms\n",
    "Q = 210 #quality factor of coil, Q\n",
    "\n",
    "#max and min capacitances of your variable capacitors in pF\n",
    "C_match_1 = np.array([1, 120]) \n",
    "C_match_2 = np.array([1, 120]) \n",
    "C_tune = np.array([1, 120])\n",
    "\n",
    "#24/10/2024 Adding In coaxial cable additional capacitance\n",
    "#Length of coaxial cable\n",
    "L=0.90 #Length in m, including bending section length, between connector at probe top and cable termination at probe base\n",
    "C_per_meter=100 #capacitance per meter in pF (100pF is rough, find the exact size for your cable in documentation)\n",
    "#Adding in cable capacitance for the coax down the probe centre:\n",
    "cable_capacitance = L*C_per_meter*10**(-12)\n",
    "\n",
    "#convert to F\n",
    "C_match_tot = C_match_1*10**-12 + C_match_2*10**-12 + cable_capacitance\n",
    "C_tune = C_tune*10**-12\n"
   ]
  },
  {
   "cell_type": "code",
   "execution_count": 81,
   "metadata": {
    "metadata": {}
   },
   "outputs": [
    {
     "name": "stdout",
     "output_type": "stream",
     "text": [
      "value: 1.3849613361560106e-05, error: 1.3456911361521365e-05, \n",
      "    coil_turns = 20, \n",
      "    coil_length = 3 #units in cm, side on measured, \n",
      "    coil_diameter = 1 #units in cm from top down, \n",
      "    coil_radius = 0.5, \n",
      "    wire_thickness = 0.001 #units of cm,diameter, \n",
      "    wire_radius = 0.0005\n"
     ]
    }
   ],
   "source": [
    "'''Inductance of coil calculation'''\n",
    "'''NB. This cell uses cubepy which did not allow the computation by default, its run time must be manually changed in the package code to be 64 not 16'''\n",
    "\n",
    "import cubepy as cp\n",
    "## The integrand function.\n",
    "def function_to_integrate(phi, p_phi, theta, p_theta):\n",
    "    #R=1\n",
    "\n",
    "    a=wire_radius\n",
    "    b=coil_radius\n",
    "    h=coil_length\n",
    "    N=coil_turns\n",
    "\n",
    "    k= h/(2*N*np.pi)\n",
    "    permeability = np.pi*4*10**-7\n",
    "    coefficient = permeability/(4*np.pi*(2*np.pi*a)**2)\n",
    "    \n",
    "    r1 = (b*np.sin(theta) + a*np.cos(phi)*np.sin(theta) - b*np.sin(p_phi) - a*np.cos(p_phi)*np.sin(p_theta))\n",
    "    r2=(a*np.sin(phi) + k*theta - a*np.sin(p_phi) - k*p_theta)\n",
    "    r3 = (b*np.cos(theta) +a*np.cos(phi)*np.cos(theta) - b*np.cos(p_theta) - a*np.cos(p_phi)*np.cos(p_theta))\n",
    "    R = np.sqrt(r1**2 + r2**2 + r3**2)\n",
    "    #R=b*np.sin(theta)+ a*np.cos(phi)\n",
    "    f1 = (np.cos(p_theta - theta)*a**2)/R\n",
    "    f2 = b+a*np.cos(phi)\n",
    "    f3 = b+a*np.cos(p_phi)\n",
    "\n",
    "    integrand = coefficient*f1*f2*f3\n",
    "    return integrand\n",
    "\n",
    "\n",
    "N=coil_turns\n",
    "## The upper and lower bounds of integration.\n",
    "low = [0.0, 0.0, 0.0, 0.0]\n",
    "high = [2*np.pi, 2*np.pi, N*2*np.pi, N*2*np.pi]\n",
    "\n",
    "# The Integration!\n",
    "value, error = cp.integrate(function_to_integrate, low, high)\n",
    "\n",
    "print(f'''value: {value}, error: {error}, \n",
    "    coil_turns = {coil_turns}, \n",
    "    coil_length = {coil_length} #units in cm, side on measured, \n",
    "    coil_diameter = {coil_diameter} #units in cm from top down, \n",
    "    coil_radius = {coil_diameter/2}, \n",
    "    wire_thickness = {wire_thickness} #units of cm,diameter, \n",
    "    wire_radius = {wire_thickness/2}''')\n",
    "\n",
    "coil_L = value"
   ]
  },
  {
   "cell_type": "markdown",
   "metadata": {},
   "source": [
    "Code to show range of possible resonance frequencies for given conditions in NMR circuit for series parallel and parallel series setups.\n",
    "\n"
   ]
  },
  {
   "cell_type": "code",
   "execution_count": 82,
   "metadata": {
    "metadata": {}
   },
   "outputs": [
    {
     "name": "stdout",
     "output_type": "stream",
     "text": [
      "Parallel Series resonant frequency range is: [42.99806061  4.558899  ]MHz\n"
     ]
    }
   ],
   "source": [
    "#pick your circuit type by making it True and the other False\n",
    "Series_parallel = False\n",
    "Parallel_series = True\n",
    "\n",
    "\n",
    "\n",
    "if Series_parallel and not Parallel_series:\n",
    "    res_f = (1/(2*np.pi) * 1/np.sqrt(coil_L*(C_match_tot+C_tune)))*10**-6 #resonant freq in MHz\n",
    "    print(f'Series Parallel resonant frequency range is: {res_f}MHz')\n",
    "\n",
    "if not Series_parallel and Parallel_series:\n",
    "    C_tot = 1/(C_match_tot**-1 +C_tune**-1)\n",
    "    res_f = (1/(2*np.pi) * 1/np.sqrt(coil_L*C_tot))*10**-6 #resonant freq in MHz\n",
    "    print(f'Parallel Series resonant frequency range is: {res_f}MHz')\n",
    "\n",
    "elif Series_parallel and Parallel_series:\n",
    "    print('Check the true false statements, one must be true, one must be false to show which circuit you are using')\n",
    "elif not Series_parallel and not Parallel_series:\n",
    "    print('Check the true false statements, one must be true, one must be false to show which circuit you are using')"
   ]
  },
  {
   "cell_type": "markdown",
   "metadata": {},
   "source": [
    "Impedance matching section, once you know the range of your resonance condition you need to calculate the impedance matching conditions\n",
    "\n",
    "NB. THIS ONLY WORKS FOR PARALLEL SERIES CIRCUITS CURRENTLY, CHECK NUTS AND BOLTS NMR FOR SERIES PARALLEL CONDITION"
   ]
  },
  {
   "cell_type": "code",
   "execution_count": 83,
   "metadata": {
    "metadata": {}
   },
   "outputs": [
    {
     "name": "stdout",
     "output_type": "stream",
     "text": [
      "9.2e-11 3.3e-10\n",
      "Capacitance ratio required: C/(C+C') =0.0009669982908314255, max and min possible ratios with these capacitors:0.5660377358490566,0.0030211480362537764, \n",
      "    therefore this matching cannot be completed, use a bigger matching capacitor or a smaller coil inductance\n"
     ]
    }
   ],
   "source": [
    "impedance_to_match = 50 #ohms, the impedance you want the circuit to be matched, to prevent reflection this is the source impedance (usually 50 ohms from the preamp)\n",
    "internal_r_coil = 0.2 #ohms, the resistance of the coil wire\n",
    "\n",
    "#Nuclei Angular frequencies for NMR (2π*γ)\n",
    "Co_0T=2*np.pi*213.16*10**6\n",
    "Cl_9T=2*np.pi*37.58*10**6\n",
    "\n",
    "ang_frequency = Cl_9T #the angular frequency you want resonance at\n",
    "\n",
    "inductance = coil_L #inductance of the coil calculated before, in henrys \n",
    "\n",
    "#this code produces the matching condition in the form of the ratio of C/(C+C') but when tuning using this remember that C'>>C is the ideal condition\n",
    "\n",
    "capacitance_ratio = np.sqrt(impedance_to_match*internal_r_coil)/(ang_frequency*inductance)\n",
    "\n",
    "\n",
    "#can this be achieved with the capacitor values given earlier?\n",
    "C_match_min = np.min(C_match_tot)\n",
    "C_match_max = np.max(C_match_tot)\n",
    "print(C_match_min, C_match_max)\n",
    "C_tune_min = np.min(C_tune)\n",
    "C_tune_max = np.max(C_tune)\n",
    "\n",
    "cap_ratio_min = C_tune_min/(C_tune_min+C_match_max)\n",
    "cap_ratio_max = C_tune_max/(C_tune_max+C_match_min)\n",
    "\n",
    "if capacitance_ratio<cap_ratio_min:\n",
    "    #print('true')\n",
    "    text = 'therefore this matching cannot be completed, use a bigger matching capacitor or a smaller coil inductance'\n",
    "if capacitance_ratio>cap_ratio_max:\n",
    "    text = 'something has gone really wrong, this should never happen!'\n",
    "elif capacitance_ratio<cap_ratio_max and capacitance_ratio>cap_ratio_min:\n",
    "    text = 'this ratio can be achieved within the current capacitor setup'\n",
    "\n",
    "\n",
    "print(f'''Capacitance ratio required: C/(C+C\\') ={capacitance_ratio}, max and min possible ratios with these capacitors:{cap_ratio_max},{cap_ratio_min}, \n",
    "    {text}''')"
   ]
  }
 ],
 "metadata": {
  "kernelspec": {
   "display_name": "base",
   "language": "python",
   "name": "python3"
  },
  "language_info": {
   "codemirror_mode": {
    "name": "ipython",
    "version": 3
   },
   "file_extension": ".py",
   "mimetype": "text/x-python",
   "name": "python",
   "nbconvert_exporter": "python",
   "pygments_lexer": "ipython3",
   "version": "3.10.9"
  }
 },
 "nbformat": 4,
 "nbformat_minor": 2
}
