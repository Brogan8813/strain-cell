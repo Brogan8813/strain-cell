{
 "cells": [
  {
   "cell_type": "markdown",
   "metadata": {},
   "source": [
    "This code is to calculate the integral of eqn 14 that is used in the following paper:\n",
    "\n",
    "Giovannetti, G., Frijia, F. Inductance Calculation in Magnetic Resonance Solenoid Coils with Strip and Wire Conductors. Appl Magn Reson 51, 703–710 (2020). https://doi.org/10.1007/s00723-020-01230-0 \n",
    "\n"
   ]
  },
  {
   "cell_type": "code",
   "execution_count": null,
   "metadata": {},
   "outputs": [],
   "source": [
    "import numpy as np \n",
    "import scipy\n",
    "from scipy.integrate import nquad\n",
    "\n",
    "\n",
    "def inductance_solenoid_coil(a,b,h,N):\n",
    "    #function to numerically calculate the inductance of a coil \n",
    "    '''a=wire radius, b=coil radius, h=solenoid length, N=number of turns'''\n",
    "\n",
    "    permeability = np.pi*4*10**-7\n",
    "\n",
    "    coefficient = permeability/(4*np.pi*(2*np.pi*a)**2)\n",
    "\n",
    "    def function_to_integrate(phi, p_phi, theta, p_theta):\n",
    "        k= h/(2*N*np.pi)\n",
    "\n",
    "        R = (r1**2 + r2**2 + r3**2)**(1/2)\n",
    "\n",
    "        r1 = b*np.sin(theta) + a*np.cos(phi)*np.sin(p_theta) - a*np.cos(p_phi)*np.sin(p_theta)\n",
    "        r2=(a*np.sin(phi) + k*theta - a*np.sin(p_phi) - k*p_theta)\n",
    "        r3 = b*np.cos(theta) +a*np.cos(phi)*np.cos(theta) - b*np.cos(p_theta) - a*np.cos(p_phi)*np.cos(p_theta)\n",
    "\n",
    "        integrand = f1*f2*f3\n",
    "\n",
    "        f1 = (np.cos(p_theta - theta)*a**2)/R\n",
    "        f2 = b+a*np.cos(phi)\n",
    "        f3 = b+a*np.cos(p_phi)\n",
    "\n",
    "    #list the limits of the integrals \n",
    "    range_phi = [0,2*np.pi]\n",
    "    range_p_phi = [0,2*np.pi]\n",
    "    range_theta = [0,2*np.pi*N]\n",
    "    range_p_theta = [0,2*np.pi*N]\n",
    "\n",
    "    def I_ls(a,b,h,N):\n",
    "        return nquad(function_to_integrate, [range_phi,range_p_phi,range_theta,range_p_theta], args = (a,b,h,N))"
   ]
  },
  {
   "cell_type": "code",
   "execution_count": 41,
   "metadata": {},
   "outputs": [
    {
     "data": {
      "text/plain": [
       "(1.4678636671057682e-05, 1.4890453286300152e-08)"
      ]
     },
     "execution_count": 41,
     "metadata": {},
     "output_type": "execute_result"
    }
   ],
   "source": [
    "import numpy as np \n",
    "import scipy\n",
    "from scipy.integrate import nquad\n",
    "\n",
    "permeability = np.pi*4*10**-7\n",
    "\n",
    "#coefficient = permeability/(4*np.pi*(2*np.pi*a)**2)\n",
    "\n",
    "def function_to_integrate(phi, p_phi, theta, p_theta, a,b,h,N):\n",
    "    k= h/(2*N*np.pi)\n",
    "\n",
    "    r1 = b*np.sin(theta) + a*np.cos(phi)*np.sin(p_theta) - a*np.cos(p_phi)*np.sin(p_theta)\n",
    "    r2=(a*np.sin(phi) + k*theta - a*np.sin(p_phi) - k*p_theta)\n",
    "    r3 = b*np.cos(theta) +a*np.cos(phi)*np.cos(theta) - b*np.cos(p_theta) - a*np.cos(p_phi)*np.cos(p_theta)\n",
    "    R = np.sqrt(r1**2 + r2**2 + r3**2)\n",
    "    #R=b*np.sin(theta) + a*np.cos(phi)*np.sin(p_theta) \n",
    "\n",
    "    f1 = (np.cos(p_theta - theta)*a**2)/R\n",
    "    f2 = b+a*np.cos(phi)\n",
    "    f3 = b+a*np.cos(p_phi)\n",
    "    integrand = f1*f2*f3\n",
    "    return integrand\n",
    "#list the limits of the integrals \n",
    "range_phi = [0,2*np.pi]\n",
    "range_p_phi = [0,2*np.pi]\n",
    "range_theta = [0,1*np.pi]#*N]\n",
    "range_p_theta = [0,1*np.pi]#*N]\n",
    "\n",
    "def I_ls(a,b,h,N):\n",
    "    return nquad(function_to_integrate, [range_phi,range_p_phi,range_theta,range_p_theta], args = (a,b,h,N))\n",
    "\n",
    "coil_turns = 4\n",
    "coil_length = 0.8 #units in cm, side on measured\n",
    "coil_diameter = 0.7 #units in cm from top down\n",
    "coil_radius =coil_diameter/2\n",
    "wire_thickness = 0.69*10**-3 #units of cm,diameter\n",
    "wire_radius = wire_thickness/2\n",
    "I_ls(wire_radius,coil_radius,coil_length,coil_turns)"
   ]
  },
  {
   "cell_type": "code",
   "execution_count": null,
   "metadata": {},
   "outputs": [],
   "source": [
    "'''This cell uses cubepy which does not allow the computation due to the run time issues'''\n",
    "\n",
    "import cubepy as cp\n",
    "## The integrand function.\n",
    "def sphere_integrand(r, theta, phi):\n",
    "    return np.sin(phi) * r**2\n",
    "#R=b*np.sin(theta) + a*np.cos(phi)*np.sin(p_theta) \n",
    "def function_to_integrate(phi, p_phi, theta, p_theta):\n",
    "    #R=1\n",
    "\n",
    "    a=1\n",
    "    b=2\n",
    "    h=3\n",
    "    N=4\n",
    "\n",
    "    k= h/(2*N*np.pi)\n",
    "\n",
    "    r1 = b*np.sin(theta) + a*np.cos(phi)*np.sin(p_theta) - a*np.cos(p_phi)*np.sin(p_theta)\n",
    "    r2=(a*np.sin(phi) + k*theta - a*np.sin(p_phi) - k*p_theta)\n",
    "    r3 = b*np.cos(theta) +a*np.cos(phi)*np.cos(theta) - b*np.cos(p_theta) - a*np.cos(p_phi)*np.cos(p_theta)\n",
    "    #R = np.sqrt(r1**2 + r2**2 + r3**2)\n",
    "    R=b*np.sin(theta)+ a*np.cos(phi)\n",
    "    f1 = (np.cos(p_theta - theta)*a**2)/R\n",
    "    f2 = b+a*np.cos(phi)\n",
    "    f3 = b+a*np.cos(p_phi)\n",
    "\n",
    "    integrand = f1*f2*f3\n",
    "    return integrand\n",
    "\n",
    "\n",
    "## The upper and lower bounds of integration.\n",
    "low = [0.0, 0.0, 0.0, 0.0]\n",
    "high = [2*np.pi, 2*np.pi, 2*np.pi, 2*np.pi]\n",
    "\n",
    "# The Integration!\n",
    "value, error = cp.integrate(function_to_integrate, low, high)\n",
    "\n",
    "print(value)"
   ]
  }
 ],
 "metadata": {
  "kernelspec": {
   "display_name": "Python 3",
   "language": "python",
   "name": "python3"
  },
  "language_info": {
   "codemirror_mode": {
    "name": "ipython",
    "version": 3
   },
   "file_extension": ".py",
   "mimetype": "text/x-python",
   "name": "python",
   "nbconvert_exporter": "python",
   "pygments_lexer": "ipython3",
   "version": "3.12.2"
  }
 },
 "nbformat": 4,
 "nbformat_minor": 2
}
