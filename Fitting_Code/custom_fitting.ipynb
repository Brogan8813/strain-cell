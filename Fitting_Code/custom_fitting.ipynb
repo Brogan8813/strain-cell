{
 "cells": [
  {
   "cell_type": "code",
   "execution_count": null,
   "metadata": {},
   "outputs": [],
   "source": [
    "import pandas as pd\n",
    "\n",
    "# List of column headers you want to select\n",
    "selected_columns = ['header1', 'header2', 'header3']  # Replace these with actual column headers\n",
    "\n",
    "# Assuming 'test.txt' is a comma-separated values (CSV) file\n",
    "data = pd.read_csv('test.txt', usecols=selected_columns)\n",
    "\n",
    "# Now `data` contains only the selected columns from 'test.txt'\n",
    "print(data)"
   ]
  },
  {
   "cell_type": "code",
   "execution_count": null,
   "metadata": {},
   "outputs": [],
   "source": [
    "import numpy as np\n",
    "import matplotlib.pyplot as plt\n",
    "import scipy\n",
    "from scipy.optimize import curve_fit\n",
    "\n",
    "# Define the linear function\n",
    "def linear_function(x, m, c):\n",
    "    return m * x + c\n",
    "\n",
    "# Use the data loaded from the previous step\n",
    "x_data = data['x_column'].values  # Replace 'x_column' with the actual column name for x\n",
    "y_data = data['y_column'].values  # Replace 'y_column' with the actual column name for y\n",
    "\n",
    "# Perform the chi-squared fit\n",
    "popt, pcov = curve_fit(linear_function, x_data, y_data)\n",
    "\n",
    "# Optimal values for m and c\n",
    "m_optimal, c_optimal = popt\n",
    "\n",
    "# Plot the data\n",
    "plt.figure(figsize=(8, 6))\n",
    "plt.scatter(x_data, y_data, label='Data')\n",
    "\n",
    "# Plot the fitted function\n",
    "x_fit = np.linspace(min(x_data), max(x_data), 100)\n",
    "y_fit = linear_function(x_fit, m_optimal, c_optimal)\n",
    "plt.plot(x_fit, y_fit, color='red', label=f'Fit: y = {m_optimal:.2f}x + {c_optimal:.2f}')\n",
    "\n",
    "# Display function and fit parameters in the graph\n",
    "plt.text(0.05, 0.95, f'Fit: y = {m_optimal:.2f}x + {c_optimal:.2f}', transform=plt.gca().transAxes, fontsize=12, verticalalignment='top')\n",
    "plt.xlabel('x')\n",
    "plt.ylabel('y')\n",
    "plt.title('Linear Fit with Chi-squared')\n",
    "plt.legend()\n",
    "plt.grid(True)\n",
    "plt.show()"
   ]
  }
 ],
 "metadata": {
  "kernelspec": {
   "display_name": "Python 3",
   "language": "python",
   "name": "python3"
  },
  "language_info": {
   "codemirror_mode": {
    "name": "ipython",
    "version": 3
   },
   "file_extension": ".py",
   "mimetype": "text/x-python",
   "name": "python",
   "nbconvert_exporter": "python",
   "pygments_lexer": "ipython3",
   "version": "3.12.2"
  }
 },
 "nbformat": 4,
 "nbformat_minor": 2
}
